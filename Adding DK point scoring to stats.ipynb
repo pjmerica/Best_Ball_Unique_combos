{
 "cells": [
  {
   "cell_type": "code",
   "execution_count": 1,
   "id": "9f7ee390",
   "metadata": {},
   "outputs": [],
   "source": [
    "import numpy as np # linear algebra\n",
    "import pandas as pd # data processing, CSV file I/O (e.g. pd.read_csv)\n"
   ]
  },
  {
   "cell_type": "code",
   "execution_count": null,
   "id": "15e61edc",
   "metadata": {},
   "outputs": [],
   "source": []
  },
  {
   "cell_type": "code",
   "execution_count": 2,
   "id": "8917980d",
   "metadata": {},
   "outputs": [],
   "source": [
    "\n",
    "\n",
    "# Load the parquet file into a PyArrow table\n",
    "df = pd.read_csv('player_stats_2023.csv')\n",
    "\n"
   ]
  },
  {
   "cell_type": "code",
   "execution_count": 3,
   "id": "086d3834",
   "metadata": {},
   "outputs": [],
   "source": [
    "import pandas as pd\n",
    "\n",
    "# function for calculating DK fantasy\n",
    "def calculate_fantasy_points(row):\n",
    "    fantasy_points = 0\n",
    "    \n",
    "    # Passing TD\n",
    "    fantasy_points += row['passing_tds'] * 4\n",
    "    \n",
    "    # Passing Yards\n",
    "    fantasy_points += row['passing_yards'] * 0.04\n",
    "    \n",
    "    # 300+ Yard Passing Game\n",
    "    if row['passing_yards'] >= 300:\n",
    "        fantasy_points += 3\n",
    "    \n",
    "    # Interception\n",
    "    fantasy_points -= row['interceptions']\n",
    "    \n",
    "    # Rushing TD\n",
    "    fantasy_points += row['rushing_tds'] * 6\n",
    "    \n",
    "    # Rushing Yards\n",
    "    fantasy_points += row['rushing_yards'] * 0.1\n",
    "    \n",
    "    # 100+ Yard Rushing Game\n",
    "    if row['rushing_yards'] >= 100:\n",
    "        fantasy_points += 3\n",
    "    \n",
    "    # Receiving TD\n",
    "    fantasy_points += row['receiving_tds'] * 6\n",
    "    \n",
    "    # Receiving Yards\n",
    "    fantasy_points += row['receiving_yards'] * 0.1\n",
    "    \n",
    "    # 100+ Receiving Yard Game\n",
    "    if row['receiving_yards'] >= 100:\n",
    "        fantasy_points += 3\n",
    "    \n",
    "    # Reception\n",
    "    fantasy_points += row['receptions']\n",
    "    \n",
    "    # Punt/Kickoff/FG Return for TD\n",
    "    fantasy_points += row['special_teams_tds'] * 6\n",
    "    \n",
    "    # Fumble Lost\n",
    "    fantasy_points -= row['receiving_fumbles_lost']\n",
    "    fantasy_points -= row['rushing_fumbles_lost']\n",
    "    fantasy_points -= row['sack_fumbles_lost']\n",
    "    \n",
    "    # 2 Pt Conversion (Pass, Run, or Catch)\n",
    "    fantasy_points += row['passing_2pt_conversions'] * 2\n",
    "    fantasy_points += row['rushing_2pt_conversions'] * 2\n",
    "    fantasy_points += row['receiving_2pt_conversions'] * 2\n",
    "    \n",
    "    return fantasy_points\n",
    "\n",
    "# Apply the function to create the new column\n",
    "df['Fantasy Points Draftkings'] = df.apply(calculate_fantasy_points, axis=1)"
   ]
  },
  {
   "cell_type": "code",
   "execution_count": 4,
   "id": "dfc4ad06",
   "metadata": {},
   "outputs": [],
   "source": [
    "df.to_csv('player_stats_2024_DK_added.csv')"
   ]
  },
  {
   "cell_type": "code",
   "execution_count": null,
   "id": "508b5d09",
   "metadata": {},
   "outputs": [],
   "source": []
  }
 ],
 "metadata": {
  "kernelspec": {
   "display_name": "Python 3 (ipykernel)",
   "language": "python",
   "name": "python3"
  },
  "language_info": {
   "codemirror_mode": {
    "name": "ipython",
    "version": 3
   },
   "file_extension": ".py",
   "mimetype": "text/x-python",
   "name": "python",
   "nbconvert_exporter": "python",
   "pygments_lexer": "ipython3",
   "version": "3.11.3"
  }
 },
 "nbformat": 4,
 "nbformat_minor": 5
}
